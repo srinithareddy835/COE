{
 "cells": [
  {
   "cell_type": "markdown",
   "id": "778ae000-402d-4280-b5a4-c99934d04adf",
   "metadata": {},
   "source": [
    "# Load Uber.csv dataset.\n"
   ]
  },
  {
   "cell_type": "code",
   "execution_count": 1,
   "id": "e54f0aaf-21fc-43d8-9219-64ce7b699f89",
   "metadata": {},
   "outputs": [
    {
     "data": {
      "text/html": [
       "<div>\n",
       "<style scoped>\n",
       "    .dataframe tbody tr th:only-of-type {\n",
       "        vertical-align: middle;\n",
       "    }\n",
       "\n",
       "    .dataframe tbody tr th {\n",
       "        vertical-align: top;\n",
       "    }\n",
       "\n",
       "    .dataframe thead th {\n",
       "        text-align: right;\n",
       "    }\n",
       "</style>\n",
       "<table border=\"1\" class=\"dataframe\">\n",
       "  <thead>\n",
       "    <tr style=\"text-align: right;\">\n",
       "      <th></th>\n",
       "      <th>START_DATE*</th>\n",
       "      <th>END_DATE*</th>\n",
       "      <th>CATEGORY*</th>\n",
       "      <th>START*</th>\n",
       "      <th>STOP*</th>\n",
       "      <th>MILES*</th>\n",
       "      <th>PURPOSE*</th>\n",
       "    </tr>\n",
       "  </thead>\n",
       "  <tbody>\n",
       "    <tr>\n",
       "      <th>0</th>\n",
       "      <td>1/1/2016 21:11</td>\n",
       "      <td>1/1/2016 21:17</td>\n",
       "      <td>Business</td>\n",
       "      <td>Fort Pierce</td>\n",
       "      <td>Fort Pierce</td>\n",
       "      <td>5.1</td>\n",
       "      <td>Meal/Entertain</td>\n",
       "    </tr>\n",
       "    <tr>\n",
       "      <th>1</th>\n",
       "      <td>1/2/2016 1:25</td>\n",
       "      <td>1/2/2016 1:37</td>\n",
       "      <td>Business</td>\n",
       "      <td>Fort Pierce</td>\n",
       "      <td>Fort Pierce</td>\n",
       "      <td>5.0</td>\n",
       "      <td>NaN</td>\n",
       "    </tr>\n",
       "    <tr>\n",
       "      <th>2</th>\n",
       "      <td>1/2/2016 20:25</td>\n",
       "      <td>1/2/2016 20:38</td>\n",
       "      <td>Business</td>\n",
       "      <td>Fort Pierce</td>\n",
       "      <td>Fort Pierce</td>\n",
       "      <td>4.8</td>\n",
       "      <td>Errand/Supplies</td>\n",
       "    </tr>\n",
       "    <tr>\n",
       "      <th>3</th>\n",
       "      <td>1/5/2016 17:31</td>\n",
       "      <td>1/5/2016 17:45</td>\n",
       "      <td>Business</td>\n",
       "      <td>Fort Pierce</td>\n",
       "      <td>Fort Pierce</td>\n",
       "      <td>4.7</td>\n",
       "      <td>Meeting</td>\n",
       "    </tr>\n",
       "    <tr>\n",
       "      <th>4</th>\n",
       "      <td>1/6/2016 14:42</td>\n",
       "      <td>1/6/2016 15:49</td>\n",
       "      <td>Business</td>\n",
       "      <td>Fort Pierce</td>\n",
       "      <td>West Palm Beach</td>\n",
       "      <td>63.7</td>\n",
       "      <td>Customer Visit</td>\n",
       "    </tr>\n",
       "  </tbody>\n",
       "</table>\n",
       "</div>"
      ],
      "text/plain": [
       "      START_DATE*       END_DATE* CATEGORY*       START*            STOP*  \\\n",
       "0  1/1/2016 21:11  1/1/2016 21:17  Business  Fort Pierce      Fort Pierce   \n",
       "1   1/2/2016 1:25   1/2/2016 1:37  Business  Fort Pierce      Fort Pierce   \n",
       "2  1/2/2016 20:25  1/2/2016 20:38  Business  Fort Pierce      Fort Pierce   \n",
       "3  1/5/2016 17:31  1/5/2016 17:45  Business  Fort Pierce      Fort Pierce   \n",
       "4  1/6/2016 14:42  1/6/2016 15:49  Business  Fort Pierce  West Palm Beach   \n",
       "\n",
       "   MILES*         PURPOSE*  \n",
       "0     5.1   Meal/Entertain  \n",
       "1     5.0              NaN  \n",
       "2     4.8  Errand/Supplies  \n",
       "3     4.7          Meeting  \n",
       "4    63.7   Customer Visit  "
      ]
     },
     "execution_count": 1,
     "metadata": {},
     "output_type": "execute_result"
    }
   ],
   "source": [
    "import pandas as pd \n",
    "uber=pd.read_csv(\"C:/Users/mohan reddy/Downloads/Uber_Drives_2016.csv\") \n",
    "uber.head()"
   ]
  },
  {
   "cell_type": "markdown",
   "id": "d7bfeb8c-adbe-42dc-a8de-c2339e050fd4",
   "metadata": {},
   "source": [
    "# Display the number of rows and columns."
   ]
  },
  {
   "cell_type": "code",
   "execution_count": 26,
   "id": "942b47cc-dfdd-4339-a2c7-b247a6b31e7a",
   "metadata": {},
   "outputs": [
    {
     "name": "stdout",
     "output_type": "stream",
     "text": [
      "Shape of the dataset: (1156, 7)\n"
     ]
    }
   ],
   "source": [
    "#Display the number of rows and columns.\n",
    "print(\"Shape of the dataset:\", uber.shape)"
   ]
  },
  {
   "cell_type": "markdown",
   "id": "430e08ed-81d0-43de-a062-dee89fe25b9b",
   "metadata": {},
   "source": [
    "# Show unique categories in the CATEGORY column.\n"
   ]
  },
  {
   "cell_type": "code",
   "execution_count": 2,
   "id": "52a29b04-7532-4674-9b23-081911724d5e",
   "metadata": {},
   "outputs": [
    {
     "name": "stdout",
     "output_type": "stream",
     "text": [
      "0       Business\n",
      "1       Business\n",
      "2       Business\n",
      "3       Business\n",
      "4       Business\n",
      "          ...   \n",
      "1151    Business\n",
      "1152    Business\n",
      "1153    Business\n",
      "1154    Business\n",
      "1155         NaN\n",
      "Name: CATEGORY*, Length: 1156, dtype: object\n"
     ]
    }
   ],
   "source": [
    "\n",
    "print(uber['CATEGORY*'])"
   ]
  },
  {
   "cell_type": "markdown",
   "id": "6cd4cf43-9fba-466f-b06b-5f6b37d65c4b",
   "metadata": {},
   "source": [
    "# Find how many null values are there in PURPOSE"
   ]
  },
  {
   "cell_type": "code",
   "execution_count": 28,
   "id": "da4b98a9-2fb4-44b1-959c-886b98fede79",
   "metadata": {},
   "outputs": [
    {
     "name": "stdout",
     "output_type": "stream",
     "text": [
      "503\n"
     ]
    }
   ],
   "source": [
    "print(uber['PURPOSE*'].isnull().sum())"
   ]
  },
  {
   "cell_type": "markdown",
   "id": "3ff8db2b-d2b7-461d-a3ad-bec9da11d768",
   "metadata": {},
   "source": [
    "# Rename all columns in uppercase."
   ]
  },
  {
   "cell_type": "code",
   "execution_count": 32,
   "id": "bdbd9b5e-2143-411a-947a-015357c254a7",
   "metadata": {},
   "outputs": [
    {
     "name": "stdout",
     "output_type": "stream",
     "text": [
      "[ True  True  True  True  True  True  True]\n"
     ]
    }
   ],
   "source": [
    "print(uber.columns == uber.columns.str.upper())"
   ]
  },
  {
   "cell_type": "code",
   "execution_count": null,
   "id": "57542d42-a10a-4f64-bb66-17cb1cd02997",
   "metadata": {},
   "outputs": [],
   "source": []
  }
 ],
 "metadata": {
  "kernelspec": {
   "display_name": "Python 3 (ipykernel)",
   "language": "python",
   "name": "python3"
  },
  "language_info": {
   "codemirror_mode": {
    "name": "ipython",
    "version": 3
   },
   "file_extension": ".py",
   "mimetype": "text/x-python",
   "name": "python",
   "nbconvert_exporter": "python",
   "pygments_lexer": "ipython3",
   "version": "3.13.5"
  }
 },
 "nbformat": 4,
 "nbformat_minor": 5
}
